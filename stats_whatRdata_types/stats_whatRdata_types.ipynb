{
 "cells": [
  {
   "cell_type": "markdown",
   "id": "13a564d0",
   "metadata": {},
   "source": [
    "## COURSE:  <font color='gray'>Master statistics and machine learning: intuition, math, code</font> \n",
    "\n",
    "###### COURSE URL: [udemy.com/course/statsml_x/?couponCode=202006]()\n",
    "### SECTION: <font color='gray'>What are (is?) data?</font>\n",
    "#### VIDEO: Code: <font color='gray'>Representing types of data on computers</font>\n",
    "##### TEACHER: <font color='darkslategray'>Mike X Cohen, sincxpress.com</font>\n",
    "##### STUDENT: <font color='darkslategray'>Pouya Taghipour</font>\n"
   ]
  },
  {
   "cell_type": "markdown",
   "id": "31380251",
   "metadata": {},
   "source": [
    "\n",
    "## create variables of different types (classes)"
   ]
  },
  {
   "cell_type": "code",
   "execution_count": 4,
   "id": "15121ea6",
   "metadata": {},
   "outputs": [],
   "source": [
    "# data numerical (here as a list)\n",
    "numdata = [ 1, 7, 17, 1717 ]\n",
    "\n",
    "# character / string\n",
    "chardata = 'xyz'\n",
    "\n",
    "# double-quotes also fine\n",
    "strdata = \"x\"\n",
    "\n",
    "# boolean (aka logical)\n",
    "logitdata = True # notice capitalization!\n",
    "\n",
    "# a list can be used like a MATLAB cell\n",
    "listdata = [ [3, 4, 34] , 'hello' , 4 ]\n",
    "\n",
    "# dict (kindof similar to MATLAB structure)\n",
    "dictdata = dict()\n",
    "dictdata['name'] = 'Pouya'\n",
    "dictdata['age'] = 21\n",
    "dictdata['occupation'] = 'Biomedical Engineering Student'"
   ]
  },
  {
   "cell_type": "markdown",
   "id": "3d2d6da3",
   "metadata": {},
   "source": [
    "## Our data"
   ]
  },
  {
   "cell_type": "code",
   "execution_count": 5,
   "id": "f678deb0",
   "metadata": {},
   "outputs": [
    {
     "name": "stdout",
     "output_type": "stream",
     "text": [
      "Variable    Type    Data/Info\n",
      "-----------------------------\n",
      "chardata    str     xyz\n",
      "dictdata    dict    n=3\n",
      "listdata    list    n=3\n",
      "logitdata   bool    True\n",
      "numdata     list    n=4\n",
      "strdata     str     x\n"
     ]
    }
   ],
   "source": [
    "%whos"
   ]
  },
  {
   "cell_type": "code",
   "execution_count": 6,
   "id": "aad6a373",
   "metadata": {},
   "outputs": [],
   "source": [
    "%reset -sf"
   ]
  },
  {
   "cell_type": "code",
   "execution_count": null,
   "id": "c5948a5e",
   "metadata": {},
   "outputs": [],
   "source": []
  }
 ],
 "metadata": {
  "kernelspec": {
   "display_name": "Python 3 (ipykernel)",
   "language": "python",
   "name": "python3"
  },
  "language_info": {
   "codemirror_mode": {
    "name": "ipython",
    "version": 3
   },
   "file_extension": ".py",
   "mimetype": "text/x-python",
   "name": "python",
   "nbconvert_exporter": "python",
   "pygments_lexer": "ipython3",
   "version": "3.10.9"
  }
 },
 "nbformat": 4,
 "nbformat_minor": 5
}
